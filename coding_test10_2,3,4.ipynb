{
 "cells": [
  {
   "cell_type": "code",
   "execution_count": 2,
   "metadata": {},
   "outputs": [
    {
     "name": "stdout",
     "output_type": "stream",
     "text": [
      "NO\n",
      "NO\n",
      "YES\n"
     ]
    }
   ],
   "source": [
    "def find_parent(parent,x):\n",
    "    #루트 노드가 아니라면 루트 노드를 찾을떄까지 재귀적으로 호출\n",
    "    if parent[x] !=x:\n",
    "        parent[x]=find_parent(parent, parent[x])\n",
    "    return parent[x]\n",
    "\n",
    "#두 원소가 속한 집합을 합치기\n",
    "def union_parent(parent,a,b):\n",
    "    a =find_parent(parent,a)\n",
    "    b=find_parent(parent,b)\n",
    "    if a<b:\n",
    "        parent[b]=a\n",
    "    else:    \n",
    "        parent[a]=b\n",
    "\n",
    "n,m=map(int, input().split())\n",
    "parent= [0]*(n+1)\n",
    "\n",
    "#부모테이블에서 부모를 자기 자신으로 초기화\n",
    "for i in range(0,n+1):\n",
    "    parent[i]=i\n",
    "\n",
    "#각 연산을 하나씩 확인\n",
    "for i in range(m):\n",
    "    oper, a,b =map(int, input().split())\n",
    "    #합집합 연산인 경우\n",
    "    if open==0:\n",
    "        union_parent(parent,a,b)\n",
    "    #찾기 연산\n",
    "    elif oper==1:\n",
    "        if find_parent(parent,a) ==find_parent(parent,b):\n",
    "            print('YES')\n",
    "        else:\n",
    "            print('NO')\n"
   ]
  },
  {
   "cell_type": "code",
   "execution_count": 3,
   "metadata": {},
   "outputs": [
    {
     "name": "stdout",
     "output_type": "stream",
     "text": [
      "8\n"
     ]
    }
   ],
   "source": [
    "def find_parent(parent,x):\n",
    "    if parent[x] !=x:\n",
    "        parent[x] =find_parent(parent, parent[x])\n",
    "    return parent[x]\n",
    "\n",
    "#두 원소가 속한 집합을 합치기\n",
    "def union_parent(parent,a,b):\n",
    "    a= find_parent(parent,a)\n",
    "    b= find_parent(parent,b)\n",
    "    if a<b:\n",
    "        parent[b]=a\n",
    "    else:\n",
    "        parent[a]=b\n",
    "\n",
    "#노드의 개수와 간선 개수 입력받기\n",
    "v,e = map(int, input().split())\n",
    "parent=[0] *(v+1)\n",
    "\n",
    "#모든 간선을 담을 리스트와 최종 비용을 담을 변수\n",
    "edges=[]\n",
    "result=0\n",
    "\n",
    "#부모 테이블에서 부모를 자기자신으로 초기화\n",
    "for i in range(1,v+1):\n",
    "    parent[i]=i\n",
    "\n",
    "#모든 간선에 대한 정보를 입력받기\n",
    "for _ in range(e):\n",
    "    a,b,cost= map(int, input().split())\n",
    "    #비용순으로 정렬하기 위해 튜플의 첫번째 원소를 비용으로 설정\n",
    "    edges.append((cost,a,b))\n",
    "\n",
    "#간선을 비용순으로 정렬\n",
    "edges.sort()\n",
    "last= 0 #최소 신장 트리에 포함되는 간선 중에서 가장 비용이 큰 간선\n",
    "\n",
    "#간선을 하나씩 확인하며\n",
    "for edge in edges:\n",
    "    cost,a,b= edge\n",
    "    #싸이클이 발생하지 않는 경우에만 집합에 포함\n",
    "    if find_parent(parent,a) != find_parent(parent,b):\n",
    "        union_parent(parent,a,b)\n",
    "        result +=cost\n",
    "        last= cost\n",
    "\n",
    "print(result-last)\n"
   ]
  },
  {
   "cell_type": "code",
   "execution_count": 7,
   "metadata": {},
   "outputs": [
    {
     "name": "stdout",
     "output_type": "stream",
     "text": [
      "10\n",
      "20\n",
      "14\n",
      "18\n",
      "17\n"
     ]
    }
   ],
   "source": [
    "from collections import deque\n",
    "import copy\n",
    "\n",
    "#노드의 개수 입력받기\n",
    "e= int(input())\n",
    "indegree =[0]*(e+1)\n",
    "#각 노드에 연결된 간선 정보를 담기 위한 연결 리스트 초기화\n",
    "graph=[[] for i in range(e+1)]\n",
    "#각가의 시간 0으로 초기화\n",
    "t=[0]*(e+1)\n",
    "\n",
    "#방향 그래프틔 모든 간선 정보를 입력받기\n",
    "for i in range(1,e+1):\n",
    "    data= list(map(int, input().split()))\n",
    "    t[i]= data[0] #첫번쨰 수는 시간정보를 담고있음\n",
    "    for x in data[1:-1]:\n",
    "        indegree[i]+=1\n",
    "        graph[x].append(i)\n",
    "\n",
    "#위상 정렬 함수\n",
    "def topology_sort():\n",
    "    result= copy.deepcopy(t)  #알로리즘 수행 결과를 담을 리스트\n",
    "    q=deque() #큐기능을 위한  deque 라이브러리 사용\n",
    "    \n",
    "    #처음 시작할때 진입차수가 0인 노드를 큐에 삽입\n",
    "    for i in range(1,e+1):\n",
    "        if indegree[i]==0:\n",
    "            q.append(i)\n",
    "    \n",
    "    #큐가 빌때까지 반복\n",
    "    while q:\n",
    "        n= q.popleft()\n",
    "        #해당 원소와 연결된 노드들의 진입차수에서 1빼기\n",
    "        for i in graph[n]:\n",
    "            result[i]= max(result[i], result[n] +t[i])\n",
    "            indegree[i] -=1\n",
    "            #새롭게 진입차수가 0이 되는 노드를 큐에 삽입\n",
    "            if indegree[i]==0:\n",
    "                q.append(i)\n",
    "    #위상 정렬을 수행한 결과 출력\n",
    "    for i in range(1,e+1):\n",
    "        print(result[i])\n",
    "\n",
    "topology_sort()\n",
    "\n"
   ]
  },
  {
   "cell_type": "code",
   "execution_count": null,
   "metadata": {},
   "outputs": [],
   "source": []
  }
 ],
 "metadata": {
  "interpreter": {
   "hash": "a4fd1451840babbb37e6226633a71627e1f918595ad990aa0f1a715d0e292c9f"
  },
  "kernelspec": {
   "display_name": "Python 3.8.8 64-bit ('base': conda)",
   "language": "python",
   "name": "python3"
  },
  "language_info": {
   "codemirror_mode": {
    "name": "ipython",
    "version": 3
   },
   "file_extension": ".py",
   "mimetype": "text/x-python",
   "name": "python",
   "nbconvert_exporter": "python",
   "pygments_lexer": "ipython3",
   "version": "3.8.8"
  },
  "orig_nbformat": 4
 },
 "nbformat": 4,
 "nbformat_minor": 2
}
