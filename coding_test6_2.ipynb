{
 "cells": [
  {
   "cell_type": "code",
   "execution_count": 1,
   "metadata": {},
   "outputs": [
    {
     "name": "stdout",
     "output_type": "stream",
     "text": [
      "12 2 2 1 "
     ]
    }
   ],
   "source": [
    "n=int(input())\n",
    "\n",
    "array=[]\n",
    "for i in range(n):\n",
    "    array.append(int(input()))\n",
    "\n",
    "array =sorted(array, reverse=True)\n",
    "\n",
    "for i in array:\n",
    "    print(i, end=' ')\n"
   ]
  },
  {
   "cell_type": "code",
   "execution_count": 2,
   "metadata": {},
   "outputs": [
    {
     "name": "stdout",
     "output_type": "stream",
     "text": [
      "홍길동 이순신 "
     ]
    }
   ],
   "source": [
    "n = int(input())\n",
    "#n명의 학생 정보를 입력받아 리스트에 저장\n",
    "array=[]\n",
    "for i in range(n):\n",
    "    input_data= input().split()\n",
    "    #이름은 문자열 그대로 점수는 정수형으로 변환하여 저장\n",
    "    array.append((input_data[0], int(input_data[1])))\n",
    "#키를 이용하여 점수를 기준으로 정렬\n",
    "array= sorted(array, key=lambda student: student[1])\n",
    "\n",
    "#정렬이 수행된 결과를 출력\n",
    "for student in array:\n",
    "    print(student[0], end=' ')\n",
    "\n"
   ]
  },
  {
   "cell_type": "code",
   "execution_count": 3,
   "metadata": {},
   "outputs": [
    {
     "name": "stdout",
     "output_type": "stream",
     "text": [
      "26\n"
     ]
    }
   ],
   "source": [
    "n, k = map(int, input().split())\n",
    "a = list(map(int, input().split()))\n",
    "b = list(map(int, input().split()))\n",
    "\n",
    "a.sort()\n",
    "b.sort(reverse=True) #b는 내림차순 정렬\n",
    "\n",
    "#첫번째 인덱스부터 확인하ㅕㅁ, 두배열의 원소를 최대 k번 비교\n",
    "for i in range(k):\n",
    "    if a[i] < b[i]:\n",
    "        a[i],b[i] = b[i], a[i]\n",
    "    else:\n",
    "        break\n",
    "\n",
    "print(sum(a))\n"
   ]
  },
  {
   "cell_type": "code",
   "execution_count": null,
   "metadata": {},
   "outputs": [],
   "source": []
  }
 ],
 "metadata": {
  "interpreter": {
   "hash": "9fa643add019da874cacc65f2edf245f07005a8ee4d09b49b89a0524c9f0d194"
  },
  "kernelspec": {
   "display_name": "Python 3.9.9 64-bit (windows store)",
   "language": "python",
   "name": "python3"
  },
  "language_info": {
   "codemirror_mode": {
    "name": "ipython",
    "version": 3
   },
   "file_extension": ".py",
   "mimetype": "text/x-python",
   "name": "python",
   "nbconvert_exporter": "python",
   "pygments_lexer": "ipython3",
   "version": "3.8.8"
  },
  "orig_nbformat": 4
 },
 "nbformat": 4,
 "nbformat_minor": 2
}
