{
 "cells": [
  {
   "cell_type": "code",
   "execution_count": 3,
   "metadata": {},
   "outputs": [
    {
     "name": "stdout",
     "output_type": "stream",
     "text": [
      "각 원소가 속한집합:  1 1 1 1 5 5 \n",
      "부모테이블: 1 1 2 1 5 5 "
     ]
    }
   ],
   "source": [
    "def find_parent(parent, x):\n",
    "    #루트 노드가 아니라면 루트 노드를 찾을때까지 재귀적으로 호출\n",
    "    if parent[x] !=x:\n",
    "        return find_parent(parent, parent[x])\n",
    "    return x\n",
    "\n",
    "#두 원소가 속한 집합을 합치기\n",
    "def union_parent(parent,a,b):\n",
    "    a =find_parent(parent,a)\n",
    "    b=find_parent(parent, b)\n",
    "    if a<b:\n",
    "        parent[b]= a\n",
    "    else:\n",
    "        parent[a]=b\n",
    "\n",
    "nod , uni = map(int, input().split())\n",
    "\n",
    "parent= [0] * (nod+1) #부모테이블 초기화\n",
    "\n",
    "#부모테이블 상에서 부모를 자기자신으로 초기화\n",
    "for i in range(1, nod+1):\n",
    "    parent[i]=i\n",
    "\n",
    "#유니온 연산 각각 수행\n",
    "for i in range(uni):\n",
    "    a,b = map(int, input().split())\n",
    "    union_parent(parent, a,b)\n",
    "\n",
    "#각 원소가 속한 집합 출력\n",
    "print('각 원소가 속한집합: ', end=' ')\n",
    "for i in range(1, nod+1):\n",
    "    print(find_parent(parent,i), end=' ')\n",
    "\n",
    "print()\n",
    "\n",
    "#부모 테이블 내용 출력\n",
    "print('부모테이블:', end=' ')\n",
    "for i in range(1,nod+1):\n",
    "    print(parent[i], end=' ')"
   ]
  },
  {
   "cell_type": "code",
   "execution_count": 7,
   "metadata": {},
   "outputs": [
    {
     "name": "stdout",
     "output_type": "stream",
     "text": [
      "각 원소가 속한 집합: 0 1 1 1 1 5 5 \n",
      "브모 테이블:  1 1 1 1 5 5 "
     ]
    }
   ],
   "source": [
    "def find_parent(parent,x):\n",
    "    #루트 노드가 아니라면 루트 노드를 찾을때까지 재귀적으로 호출\n",
    "    if parent[x]!=x:\n",
    "        parent[x]=find_parent(parent,parent[x])\n",
    "    return parent[x]\n",
    "\n",
    "def union_parent(parent,a,b):\n",
    "    a=find_parent(parent,a)\n",
    "    b=find_parent(parent,b)\n",
    "    if a<b:\n",
    "        parent[b]=a\n",
    "    else:\n",
    "        parent[a]=b\n",
    "\n",
    "#노드ㅓ의 개수와 간선 개수 입력받기\n",
    "nod, line = map(int, input().split())\n",
    "\n",
    "parent= [0]*(nod+1)\n",
    "\n",
    "#부모테이블 상에서 부모를 자기자신으로 초기화\n",
    "for i in range(1,nod+1):\n",
    "    parent[i]=i\n",
    "\n",
    "#유니온 연산을 각각 수행\n",
    "for i in range(line):\n",
    "    a,b =map(int, input().split())\n",
    "    union_parent(parent,a,b)\n",
    "\n",
    "#각 원소가 속한 집합 출력\n",
    "print('각 원소가 속한 집합: 0', end =' ')\n",
    "for i in range(1,nod+1):\n",
    "    print(find_parent(parent, i), end=' ')\n",
    "\n",
    "print()\n",
    "\n",
    "#부모 테이블 내용 출력\n",
    "print('브모 테이블: ', end=' ')\n",
    "for i in range(1, nod+1):\n",
    "    print(parent[i], end=' ')\n"
   ]
  },
  {
   "cell_type": "code",
   "execution_count": 12,
   "metadata": {},
   "outputs": [
    {
     "name": "stdout",
     "output_type": "stream",
     "text": [
      "사이클이 발생\n"
     ]
    }
   ],
   "source": [
    "def find_parent(parent,x):\n",
    "    if parent[x]!=x:\n",
    "        parent[x]=find_parent(parent, parent[x])\n",
    "    return parent[x]\n",
    "\n",
    "def union_parent(parent,a,b):\n",
    "    a= find_parent(parent,a)\n",
    "    b=find_parent(parent,b)\n",
    "    if a<b:\n",
    "        parent[b]=a\n",
    "    else:\n",
    "        parent[a]=b\n",
    "\n",
    "node, line = map(int,input().split())\n",
    "\n",
    "parent=[0] *(node+1)\n",
    "\n",
    "#부모 테이블 자기자신으로 초기화\n",
    "for i in range(1, node+1):\n",
    "    parent[i]=i\n",
    "\n",
    "cycle =False\n",
    "for i in range(line):\n",
    "    a,b=map(int, input().split())\n",
    "    #싸이클이 발생한경우 종료\n",
    "    if find_parent(parent,a) ==find_parent(parent,b):\n",
    "        cycle=True\n",
    "        break\n",
    "    else:\n",
    "        union_parent(parent,a,b)\n",
    "if cycle:\n",
    "    print('사이클이 발생')\n",
    "else:\n",
    "    print('사이클이 발생x')"
   ]
  },
  {
   "cell_type": "code",
   "execution_count": 15,
   "metadata": {},
   "outputs": [
    {
     "name": "stdout",
     "output_type": "stream",
     "text": [
      "159\n"
     ]
    }
   ],
   "source": [
    "def find_parent(parent,x):\n",
    "    if parent[x] != x:\n",
    "        parent[x]=find_parent(parent,parent[x])\n",
    "    return parent[x]\n",
    "\n",
    "def union_parent(parent,a,b):\n",
    "    a=find_parent(parent,a)\n",
    "    b=find_parent(parent, b)\n",
    "    if a<b:\n",
    "        parent[b]=a\n",
    "    else:\n",
    "        parent[a]=b\n",
    "\n",
    "\n",
    "node, line= map(int, input().split())\n",
    "\n",
    "parent=[0]*(node+1)\n",
    "#모든 간선을 담을 리스트와 최종비용을 담을 변수\n",
    "edges=[]\n",
    "result=0\n",
    "\n",
    "#부모테이블에서 부모를 자기자신으로 초기화\n",
    "for i in range(1, node+1):\n",
    "    parent[i]=i\n",
    "#모든 간선에 대한 정보입력받기\n",
    "for _ in range(line):\n",
    "    a,b,cost = map(int, input().split())\n",
    "    edges.append((cost, a,b))\n",
    "#간선을 비용순으로 정렬\n",
    "\n",
    "edges.sort()\n",
    "\n",
    "#간선을 하나씩 확인\n",
    "for edge in edges:\n",
    "    cost, a,b = edge\n",
    "    #싸이클이 발생하지 않는 경우에만 집합에 포함\n",
    "    if find_parent(parent,a)!= find_parent(parent,b):\n",
    "        union_parent(parent,a,b)\n",
    "        result+=cost\n",
    "\n",
    "print(result)\n"
   ]
  },
  {
   "cell_type": "code",
   "execution_count": 16,
   "metadata": {},
   "outputs": [
    {
     "name": "stdout",
     "output_type": "stream",
     "text": [
      "No\n",
      "No\n",
      "YES\n"
     ]
    }
   ],
   "source": [
    "def find_parent(parent,x):\n",
    "    if parent[x] !=x:\n",
    "        parent[x]=find_parent(parent,parent[x])\n",
    "    return parent[x]\n",
    "\n",
    "def union_parent(parent, a,b):\n",
    "    a= find_parent(parent,a)\n",
    "    b=find_parent(parent, b)\n",
    "    if a<b:\n",
    "        parent[b]=a\n",
    "    else:\n",
    "        parent[a]=b\n",
    "\n",
    "node, line= map(int, input().split())\n",
    "parent= [0]* (node+1)\n",
    "\n",
    "for i in range(0, node+1):\n",
    "    parent[i]= i\n",
    "\n",
    "#각 연산을 하나씩 확인\n",
    "for i in range(line):\n",
    "    oper, a,b= map(int, input().split())\n",
    "    if oper==0:\n",
    "        union_parent(parent,a,b)\n",
    "    elif oper==1:\n",
    "        if find_parent(parent,a) == find_parent(parent,b):\n",
    "            print('YES')\n",
    "        else:\n",
    "            print('No')"
   ]
  },
  {
   "cell_type": "code",
   "execution_count": 21,
   "metadata": {},
   "outputs": [
    {
     "name": "stdout",
     "output_type": "stream",
     "text": [
      "8\n"
     ]
    }
   ],
   "source": [
    "def find_parent(parent,x):\n",
    "    if parent[x]!=x:\n",
    "        parent[x] =find_parent(parent,parent[x])\n",
    "    return parent[x]\n",
    "\n",
    "def union_parent(parent,a,b):\n",
    "    a= find_parent(parent,a)\n",
    "    b= find_parent(parent,b)\n",
    "    if a<b:\n",
    "        parent[b]=a\n",
    "    else:\n",
    "        parent[a]=b\n",
    "\n",
    "node, line= map(int, input().split())\n",
    "\n",
    "parent=[0]* (node+1)\n",
    "\n",
    "edges =[]\n",
    "result=0\n",
    "\n",
    "#부모 테이블에서 자기자신으로 초기화\n",
    "for i in range(1, node+1):\n",
    "    parent[i]=i\n",
    "\n",
    "for _ in range(line):\n",
    "    a,b,cost= map(int,input().split())\n",
    "\n",
    "    edges.append((cost,a,b))\n",
    "#간선을 비용순으로 정렬\n",
    "edges.sort()\n",
    "\n",
    "last =0#최소 신장 트리에 포함되는 간선 중에서 가장 비용이 큰 간선\n",
    "\n",
    "#간선을 하나씩 확인하며\n",
    "for edge in edges:\n",
    "    cost,a,b=edge\n",
    "    #사이클이 발생하지 않는 경우에만 집합에 포함\n",
    "    if find_parent(parent,a) != find_parent(parent,b):\n",
    "        union_parent(parent,a,b)\n",
    "        result+=cost\n",
    "        last= cost\n",
    "\n",
    "print(result-last)\n",
    "\n"
   ]
  },
  {
   "cell_type": "code",
   "execution_count": 23,
   "metadata": {},
   "outputs": [
    {
     "name": "stdout",
     "output_type": "stream",
     "text": [
      "10\n",
      "20\n",
      "14\n",
      "18\n",
      "17\n"
     ]
    }
   ],
   "source": [
    "from collections import deque\n",
    "import copy\n",
    "\n",
    "#노드 개수 입력받기\n",
    "node =int(input())\n",
    "#모든 노드에 대한 진입차수는 0으로 초기화\n",
    "indegree=[0]*(node+1)\n",
    "\n",
    "#각노드에 저장된 간선정보를 담기위한 리스트 초기화\n",
    "line= [[] for i in range(node+1)]\n",
    "#각강의 시간 0으로 초기화\n",
    "\n",
    "time =[0] *(node+1)\n",
    "\n",
    "#방향 그래프의 모든 간선정보를 입력받기\n",
    "for i in range(1, node+1):\n",
    "    inform = list(map(int, input().split()))\n",
    "    time[i] = inform[0] #첫번째 수는 시간정보\n",
    "    for x in inform[1:-1]:\n",
    "        indegree[i] +=1\n",
    "        line[x].append(i)\n",
    "\n",
    "#위상 정렬함수\n",
    "def topology_sort():\n",
    "    result = copy.deepcopy(time) #알고리즘 수행결과를 담을 리스트\n",
    "    q=deque()#큐기능을 위한 deque 라이브러리\n",
    "    \n",
    "    #처음 시작할때 진입차수가 0인 노드를 큐에 삽입\n",
    "    for i in range(1, node+1):\n",
    "        if indegree[i]==0:\n",
    "            q.append(i)\n",
    "\n",
    "    #큐가 빌때까지 반복\n",
    "    while q:\n",
    "        #큐에서 원소 꺼내기\n",
    "        now = q.popleft()\n",
    "        #해당 원소와 연결된 노드들의 진입차수에서 1빼기\n",
    "        for i in line[now]:\n",
    "            result[i]=max(result[i],result[now]+time[i])\n",
    "            indegree[i] -=1\n",
    "            #새롭게 진입차수가 0이 되는 노드를 큐에 삽입\n",
    "            if indegree[i]==0:\n",
    "                q.append(i)\n",
    "\n",
    "    #위상 정렬을 수행한 결과\n",
    "    for i in range(1,node+1):\n",
    "        print(result[i])\n",
    "\n",
    "topology_sort()"
   ]
  },
  {
   "cell_type": "code",
   "execution_count": null,
   "metadata": {},
   "outputs": [],
   "source": []
  }
 ],
 "metadata": {
  "interpreter": {
   "hash": "a4fd1451840babbb37e6226633a71627e1f918595ad990aa0f1a715d0e292c9f"
  },
  "kernelspec": {
   "display_name": "Python 3.8.8 64-bit ('base': conda)",
   "language": "python",
   "name": "python3"
  },
  "language_info": {
   "codemirror_mode": {
    "name": "ipython",
    "version": 3
   },
   "file_extension": ".py",
   "mimetype": "text/x-python",
   "name": "python",
   "nbconvert_exporter": "python",
   "pygments_lexer": "ipython3",
   "version": "3.8.8"
  },
  "orig_nbformat": 4
 },
 "nbformat": 4,
 "nbformat_minor": 2
}
