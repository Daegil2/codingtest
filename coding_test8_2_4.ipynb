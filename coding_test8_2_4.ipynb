{
 "cells": [
  {
   "cell_type": "code",
   "execution_count": 4,
   "metadata": {},
   "outputs": [
    {
     "name": "stdout",
     "output_type": "stream",
     "text": [
      "3\n"
     ]
    }
   ],
   "source": [
    "x= int(input())\n",
    "\n",
    "#앞서 계산된 결과를 저장하기 위한 테이블 초기화\n",
    "d=[0] * 30000\n",
    "#다이나믹 프로그래밍 진행\n",
    "for i in range(2, x+1):\n",
    "    #현재 수에서 1을 빼는 경우\n",
    "    d[i]= d[i-1] +1\n",
    "    #현재의 수가 2로 나뉘어 떨어지는경우\n",
    "    if d[i]%2==0:\n",
    "        d[i]= min(d[i],d[i//2]+1)\n",
    "    #현재의 수가 3으로 나뉘어 떨어지는경우\n",
    "    if i%3==0:\n",
    "        d[i]=min(d[i],d[i//3]+1)\n",
    "    #현재의 수가 3으로 나뉘어 떨어지는경우\n",
    "    if i%5 ==0:\n",
    "        d[i] = min(d[i],d[i//5]+1)\n",
    "\n",
    "print(d[x])\n"
   ]
  },
  {
   "cell_type": "code",
   "execution_count": 5,
   "metadata": {},
   "outputs": [
    {
     "name": "stdout",
     "output_type": "stream",
     "text": [
      "8\n"
     ]
    }
   ],
   "source": [
    "n= int(input())\n",
    "#모든 식량 정보 입력받기\n",
    "array= list(map(int, input().split()))\n",
    "\n",
    "d=[0]*100\n",
    "\n",
    "#다이나믹 프로그래밍 진행\n",
    "d[0] =array[0]\n",
    "d[1]= max(array[0], array[1])\n",
    "for i in range(2,n):\n",
    "    d[i]= max(d[i-1], d[i-2]+array[i])\n",
    "\n",
    "\n",
    "print(d[n-1])"
   ]
  },
  {
   "cell_type": "code",
   "execution_count": 8,
   "metadata": {},
   "outputs": [
    {
     "name": "stdout",
     "output_type": "stream",
     "text": [
      "5\n"
     ]
    }
   ],
   "source": [
    "n= int(input())\n",
    "\n",
    "d=[0]*100\n",
    "\n",
    "#다이나믹 프로그램 진행\n",
    "d[1]=1\n",
    "d[2]=3\n",
    "\n",
    "for i in range(3,n+1):\n",
    "    d[i]= (d[i-1]+2* d[i-2]) % 796796\n",
    "\n",
    "\n",
    "print(d[n])"
   ]
  },
  {
   "cell_type": "code",
   "execution_count": 9,
   "metadata": {},
   "outputs": [
    {
     "ename": "IndentationError",
     "evalue": "expected an indented block (Temp/ipykernel_5980/2683801189.py, line 13)",
     "output_type": "error",
     "traceback": [
      "\u001b[1;36m  File \u001b[1;32m\"C:\\Users\\Kwon\\AppData\\Local\\Temp/ipykernel_5980/2683801189.py\"\u001b[1;36m, line \u001b[1;32m13\u001b[0m\n\u001b[1;33m    for i in range(n):\u001b[0m\n\u001b[1;37m                      ^\u001b[0m\n\u001b[1;31mIndentationError\u001b[0m\u001b[1;31m:\u001b[0m expected an indented block\n"
     ]
    }
   ],
   "source": [
    "n,m = map(int, input().split())\n",
    "#n개의 화폐 단위 정보 입력\n",
    "array=[]\n",
    "\n",
    "for i in range(n):\n",
    "    array.append(int(input()))\n",
    "\n",
    "#한번 계산된 결과가 저장하기 위한 테이블\n",
    "d=[10001]*(m+1)\n",
    "\n",
    "#다이나믹 프로그래밍 진행\n",
    "d[0]=0\n",
    "for i in range(n):\n",
    "    for j in range(array[i], m+1):\n",
    "        if d[j-array[i]] != 1001:# (i-k)원을 만드는 방법이 존재하는 경우\n",
    "            d[j]= min(d[j], d[j-array[i]+1])\n",
    "\n",
    "#결과 출력\n",
    "if d[m]== 10001:\n",
    "    print(-1)\n",
    "\n",
    "else:\n",
    "    print(d[m])\n"
   ]
  },
  {
   "cell_type": "code",
   "execution_count": null,
   "metadata": {},
   "outputs": [],
   "source": [
    "\n"
   ]
  }
 ],
 "metadata": {
  "interpreter": {
   "hash": "9fa643add019da874cacc65f2edf245f07005a8ee4d09b49b89a0524c9f0d194"
  },
  "kernelspec": {
   "display_name": "Python 3.9.9 64-bit (windows store)",
   "language": "python",
   "name": "python3"
  },
  "language_info": {
   "codemirror_mode": {
    "name": "ipython",
    "version": 3
   },
   "file_extension": ".py",
   "mimetype": "text/x-python",
   "name": "python",
   "nbconvert_exporter": "python",
   "pygments_lexer": "ipython3",
   "version": "3.9.9"
  },
  "orig_nbformat": 4
 },
 "nbformat": 4,
 "nbformat_minor": 2
}
