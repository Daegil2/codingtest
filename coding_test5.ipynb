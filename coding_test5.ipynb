{
 "cells": [
  {
   "cell_type": "code",
   "execution_count": 9,
   "metadata": {},
   "outputs": [
    {
     "name": "stdout",
     "output_type": "stream",
     "text": [
      "[5, 2, 3, 1]\n",
      "[1, 3, 2, 5]\n"
     ]
    }
   ],
   "source": [
    "stack = []\n",
    "\n",
    "stack.append(5)\n",
    "stack.append(2)\n",
    "stack.append(3)\n",
    "stack.append(7)\n",
    "stack.pop()\n",
    "stack.append(1)\n",
    "stack.append(4)\n",
    "stack.pop()\n",
    "print(stack)\n",
    "print(stack[::-1])"
   ]
  },
  {
   "cell_type": "markdown",
   "metadata": {},
   "source": []
  },
  {
   "cell_type": "code",
   "execution_count": 11,
   "metadata": {},
   "outputs": [
    {
     "name": "stdout",
     "output_type": "stream",
     "text": [
      "deque([3, 7, 1, 4])\n",
      "deque([4, 1, 7, 3])\n"
     ]
    }
   ],
   "source": [
    "from collections import deque\n",
    "queue =deque()\n",
    "queue.append(5)\n",
    "queue.append(2)\n",
    "queue.append(3)\n",
    "queue.append(7)\n",
    "queue.popleft()\n",
    "queue.append(1)\n",
    "queue.append(4)\n",
    "queue.popleft()\n",
    "\n",
    "print(queue)\n",
    "queue.reverse()\n",
    "print(queue)"
   ]
  },
  {
   "cell_type": "code",
   "execution_count": 12,
   "metadata": {},
   "outputs": [
    {
     "name": "stdout",
     "output_type": "stream",
     "text": [
      "재귀함수 호출\n"
     ]
    }
   ],
   "source": [
    "def recursive_function():\n",
    "    print('재귀함수 호출')\n",
    "    recursive_function\n",
    "recursive_function()"
   ]
  },
  {
   "cell_type": "code",
   "execution_count": 13,
   "metadata": {},
   "outputs": [
    {
     "name": "stdout",
     "output_type": "stream",
     "text": [
      "1 번째 함수에서 2 번째 재귀함수를 호출\n",
      "2 번째 함수에서 3 번째 재귀함수를 호출\n",
      "3 번째 함수에서 4 번째 재귀함수를 호출\n",
      "4 번째 함수에서 5 번째 재귀함수를 호출\n",
      "5 번째 함수에서 6 번째 재귀함수를 호출\n",
      "6 번째 함수에서 7 번째 재귀함수를 호출\n",
      "7 번째 함수에서 8 번째 재귀함수를 호출\n",
      "8 번째 함수에서 9 번째 재귀함수를 호출\n",
      "9 번째 함수에서 10 번째 재귀함수를 호출\n",
      "10 번째 함수에서 11 번째 재귀함수를 호출\n",
      "11 번째 함수에서 12 번째 재귀함수를 호출\n",
      "12 번째 함수에서 13 번째 재귀함수를 호출\n",
      "13 번째 함수에서 14 번째 재귀함수를 호출\n",
      "14 번째 함수에서 15 번째 재귀함수를 호출\n",
      "15 번째 함수에서 16 번째 재귀함수를 호출\n",
      "16 번째 함수에서 17 번째 재귀함수를 호출\n",
      "17 번째 함수에서 18 번째 재귀함수를 호출\n",
      "18 번째 함수에서 19 번째 재귀함수를 호출\n",
      "19 번째 함수에서 20 번째 재귀함수를 호출\n",
      "20 번째 함수에서 21 번째 재귀함수를 호출\n",
      "21 번째 함수에서 22 번째 재귀함수를 호출\n",
      "22 번째 함수에서 23 번째 재귀함수를 호출\n",
      "23 번째 함수에서 24 번째 재귀함수를 호출\n",
      "24 번째 함수에서 25 번째 재귀함수를 호출\n",
      "25 번째 함수에서 26 번째 재귀함수를 호출\n",
      "26 번째 함수에서 27 번째 재귀함수를 호출\n",
      "27 번째 함수에서 28 번째 재귀함수를 호출\n",
      "28 번째 함수에서 29 번째 재귀함수를 호출\n",
      "29 번째 함수에서 30 번째 재귀함수를 호출\n",
      "30 번째 함수에서 31 번째 재귀함수를 호출\n",
      "31 번째 함수에서 32 번째 재귀함수를 호출\n",
      "32 번째 함수에서 33 번째 재귀함수를 호출\n",
      "33 번째 함수에서 34 번째 재귀함수를 호출\n",
      "34 번째 함수에서 35 번째 재귀함수를 호출\n",
      "35 번째 함수에서 36 번째 재귀함수를 호출\n",
      "36 번째 함수에서 37 번째 재귀함수를 호출\n",
      "37 번째 함수에서 38 번째 재귀함수를 호출\n",
      "38 번째 함수에서 39 번째 재귀함수를 호출\n",
      "39 번째 함수에서 40 번째 재귀함수를 호출\n",
      "40 번째 함수에서 41 번째 재귀함수를 호출\n",
      "41 번째 함수에서 42 번째 재귀함수를 호출\n",
      "42 번째 함수에서 43 번째 재귀함수를 호출\n",
      "43 번째 함수에서 44 번째 재귀함수를 호출\n",
      "44 번째 함수에서 45 번째 재귀함수를 호출\n",
      "45 번째 함수에서 46 번째 재귀함수를 호출\n",
      "46 번째 함수에서 47 번째 재귀함수를 호출\n",
      "47 번째 함수에서 48 번째 재귀함수를 호출\n",
      "48 번째 함수에서 49 번째 재귀함수를 호출\n",
      "49 번째 함수에서 50 번째 재귀함수를 호출\n",
      "50 번째 함수에서 51 번째 재귀함수를 호출\n",
      "51 번째 함수에서 52 번째 재귀함수를 호출\n",
      "52 번째 함수에서 53 번째 재귀함수를 호출\n",
      "53 번째 함수에서 54 번째 재귀함수를 호출\n",
      "54 번째 함수에서 55 번째 재귀함수를 호출\n",
      "55 번째 함수에서 56 번째 재귀함수를 호출\n",
      "56 번째 함수에서 57 번째 재귀함수를 호출\n",
      "57 번째 함수에서 58 번째 재귀함수를 호출\n",
      "58 번째 함수에서 59 번째 재귀함수를 호출\n",
      "59 번째 함수에서 60 번째 재귀함수를 호출\n",
      "60 번째 함수에서 61 번째 재귀함수를 호출\n",
      "61 번째 함수에서 62 번째 재귀함수를 호출\n",
      "62 번째 함수에서 63 번째 재귀함수를 호출\n",
      "63 번째 함수에서 64 번째 재귀함수를 호출\n",
      "64 번째 함수에서 65 번째 재귀함수를 호출\n",
      "65 번째 함수에서 66 번째 재귀함수를 호출\n",
      "66 번째 함수에서 67 번째 재귀함수를 호출\n",
      "67 번째 함수에서 68 번째 재귀함수를 호출\n",
      "68 번째 함수에서 69 번째 재귀함수를 호출\n",
      "69 번째 함수에서 70 번째 재귀함수를 호출\n",
      "70 번째 함수에서 71 번째 재귀함수를 호출\n",
      "71 번째 함수에서 72 번째 재귀함수를 호출\n",
      "72 번째 함수에서 73 번째 재귀함수를 호출\n",
      "73 번째 함수에서 74 번째 재귀함수를 호출\n",
      "74 번째 함수에서 75 번째 재귀함수를 호출\n",
      "75 번째 함수에서 76 번째 재귀함수를 호출\n",
      "76 번째 함수에서 77 번째 재귀함수를 호출\n",
      "77 번째 함수에서 78 번째 재귀함수를 호출\n",
      "78 번째 함수에서 79 번째 재귀함수를 호출\n",
      "79 번째 함수에서 80 번째 재귀함수를 호출\n",
      "80 번째 함수에서 81 번째 재귀함수를 호출\n",
      "81 번째 함수에서 82 번째 재귀함수를 호출\n",
      "82 번째 함수에서 83 번째 재귀함수를 호출\n",
      "83 번째 함수에서 84 번째 재귀함수를 호출\n",
      "84 번째 함수에서 85 번째 재귀함수를 호출\n",
      "85 번째 함수에서 86 번째 재귀함수를 호출\n",
      "86 번째 함수에서 87 번째 재귀함수를 호출\n",
      "87 번째 함수에서 88 번째 재귀함수를 호출\n",
      "88 번째 함수에서 89 번째 재귀함수를 호출\n",
      "89 번째 함수에서 90 번째 재귀함수를 호출\n",
      "90 번째 함수에서 91 번째 재귀함수를 호출\n",
      "91 번째 함수에서 92 번째 재귀함수를 호출\n",
      "92 번째 함수에서 93 번째 재귀함수를 호출\n",
      "93 번째 함수에서 94 번째 재귀함수를 호출\n",
      "94 번째 함수에서 95 번째 재귀함수를 호출\n",
      "95 번째 함수에서 96 번째 재귀함수를 호출\n",
      "96 번째 함수에서 97 번째 재귀함수를 호출\n",
      "97 번째 함수에서 98 번째 재귀함수를 호출\n",
      "98 번째 함수에서 99 번째 재귀함수를 호출\n",
      "99 번째 함수에서 100 번째 재귀함수를 호출\n"
     ]
    }
   ],
   "source": [
    "def recursive_function(i):\n",
    "    if i ==100:\n",
    "        return\n",
    "    print(i, '번째 함수에서', i+1, '번째 재귀함수를 호출')\n",
    "    recursive_function(i+1)\n",
    "\n",
    "recursive_function(1)"
   ]
  },
  {
   "cell_type": "code",
   "execution_count": 15,
   "metadata": {},
   "outputs": [
    {
     "name": "stdout",
     "output_type": "stream",
     "text": [
      "반복적으로 구현: 120\n",
      "재귀적으로 구현: 120\n"
     ]
    }
   ],
   "source": [
    "def factorial_iteractive(n):\n",
    "    result = 1\n",
    "    for i in range(1,n+1):\n",
    "        result *= i\n",
    "    return result\n",
    "def factorial_recursive(n):\n",
    "    if n<=1:\n",
    "        return 1\n",
    "    return n* factorial_recursive(n-1)\n",
    "\n",
    "print('반복적으로 구현:', factorial_iteractive(5))\n",
    "print('재귀적으로 구현:', factorial_recursive(5))"
   ]
  },
  {
   "cell_type": "code",
   "execution_count": 17,
   "metadata": {},
   "outputs": [
    {
     "name": "stdout",
     "output_type": "stream",
     "text": [
      "[[0, 7, 5], [7, 0, 999999999], [5, 999999999, 0]]\n"
     ]
    }
   ],
   "source": [
    "INF = 999999999\n",
    "graph = [\n",
    "    [0,7,5],\n",
    "    [7,0, INF],\n",
    "    [5,INF,0]\n",
    "]\n",
    "\n",
    "print(graph)"
   ]
  },
  {
   "cell_type": "code",
   "execution_count": 18,
   "metadata": {},
   "outputs": [
    {
     "name": "stdout",
     "output_type": "stream",
     "text": [
      "[[(1, 7), (2, 5)], [(0, 7)], [(0, 5)]]\n"
     ]
    }
   ],
   "source": [
    "graph = [[] for _ in range(3)]\n",
    "graph[0].append((1,7))\n",
    "graph[0].append((2,5))\n",
    "\n",
    "graph[1].append((0,7))\n",
    "\n",
    "graph[2].append((0,5))\n",
    "\n",
    "print(graph)"
   ]
  },
  {
   "cell_type": "code",
   "execution_count": 19,
   "metadata": {},
   "outputs": [
    {
     "name": "stdout",
     "output_type": "stream",
     "text": [
      "1 2 7 6 8 3 4 5 "
     ]
    }
   ],
   "source": [
    "#DFS 매서드 정의\n",
    "def dfs(graph,v, visited):\n",
    "    #현재노드 방문처리\n",
    "    visited[v] =True\n",
    "    print(v, end=' ')\n",
    "    #현재 노드와 연결된 다른 노드를 재귀적으로 방문\n",
    "    for i in graph[v]:\n",
    "        if not visited[i]:\n",
    "            dfs(graph, i, visited)\n",
    "\n",
    "graph = [\n",
    "    [],\n",
    "    [2,3,8],\n",
    "    [1,7],\n",
    "    [1,4,5],\n",
    "    [3,5],\n",
    "    [3,4],\n",
    "    [7],\n",
    "    [2,6,8],\n",
    "    [1,7]\n",
    "]\n",
    "\n",
    "#각 노드가 방문된 정보를 리스트 자료형으로 표현\n",
    "visited= [False] *9\n",
    "dfs(graph,1, visited)"
   ]
  },
  {
   "cell_type": "code",
   "execution_count": null,
   "metadata": {},
   "outputs": [],
   "source": []
  }
 ],
 "metadata": {
  "interpreter": {
   "hash": "a4fd1451840babbb37e6226633a71627e1f918595ad990aa0f1a715d0e292c9f"
  },
  "kernelspec": {
   "display_name": "Python 3.8.8 64-bit ('base': conda)",
   "language": "python",
   "name": "python3"
  },
  "language_info": {
   "codemirror_mode": {
    "name": "ipython",
    "version": 3
   },
   "file_extension": ".py",
   "mimetype": "text/x-python",
   "name": "python",
   "nbconvert_exporter": "python",
   "pygments_lexer": "ipython3",
   "version": "3.8.8"
  },
  "orig_nbformat": 4
 },
 "nbformat": 4,
 "nbformat_minor": 2
}
