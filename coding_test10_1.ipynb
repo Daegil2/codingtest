{
 "cells": [
  {
   "cell_type": "code",
   "execution_count": 7,
   "metadata": {},
   "outputs": [
    {
     "name": "stdout",
     "output_type": "stream",
     "text": [
      "각 원소가 속한 집합: 1 1 1 1 5 5 \n",
      "부모테이블: 1 1 2 1 5 5 "
     ]
    }
   ],
   "source": [
    "def find_parent(parent,x):\n",
    "    #루트 노드가 아니면 루트 노드 찾을 때까지 재귀적으로 호출\n",
    "    if parent[x] != x:\n",
    "        return find_parent(parent,parent[x])\n",
    "    return x\n",
    "\n",
    "#두 원소가 속한 집합을 합치기\n",
    "def union_parent(parent,a,b):\n",
    "    a =find_parent(parent, a)\n",
    "    b= find_parent(parent, b)\n",
    "    if a<b:\n",
    "        parent[b] =a\n",
    "    else:\n",
    "        parent[a] =b\n",
    "\n",
    "#노드의 개수와 간선 의 개수 입력받기\n",
    "v,e = map(int, input().split())\n",
    "parent =[0] *(v+1) # 부모 테이블 초기화\n",
    "\n",
    "#부모 테이블 상에서, 부모를 자기 자신으로 초기화\n",
    "for i in range(1,v+1):\n",
    "    parent[i]=i\n",
    "\n",
    "#union 연산을 각각 수행\n",
    "for i in range(e):\n",
    "    a,b =map(int, input().split())\n",
    "    union_parent(parent, a,b)\n",
    "#각 원소가 속한 집합 출력\n",
    "print('각 원소가 속한 집합:', end=' ')\n",
    "\n",
    "for i in range(1,v+1):\n",
    "    print(find_parent(parent,i), end= ' ')\n",
    "\n",
    "print()\n",
    "\n",
    "#부모 테이블 내용 출력\n",
    "print('부모테이블:', end=' ')\n",
    "for i in range(1, v+1):\n",
    "    print(parent[i], end=' ')"
   ]
  },
  {
   "cell_type": "code",
   "execution_count": 9,
   "metadata": {},
   "outputs": [
    {
     "name": "stdout",
     "output_type": "stream",
     "text": [
      "각 원소가 속한집합: 1 1 1 1 5 5 \n",
      "부모테이블 1 1 2 1 5 5 "
     ]
    }
   ],
   "source": [
    "def find_parent(parent,x):\n",
    "    #루트 노드가 아니면 루트 노드 찾을 때까지 재귀적으로 호출\n",
    "    if parent[x] != x:\n",
    "        return find_parent(parent,parent[x])\n",
    "    return parent[x]\n",
    "#두 원소가 속한 집합을 합치기\n",
    "def union_parent(parent,a,b):\n",
    "    a =find_parent(parent, a)\n",
    "    b= find_parent(parent, b)\n",
    "    if a<b:\n",
    "        parent[b] =a\n",
    "    else:\n",
    "        parent[a] =b\n",
    "\n",
    "#노드의 개수와 간선 의 개수 입력받기\n",
    "v,e = map(int, input().split())\n",
    "parent =[0] *(v+1) # 부모 테이블 초기화\n",
    "\n",
    "#부모 테이블 상에서, 부모를 자기 자신으로 초기화\n",
    "for i in range(1,v+1):\n",
    "    parent[i]=i\n",
    "\n",
    "#유니온 연산을 각각 수행\n",
    "for i in range(e):\n",
    "    a,b = map(int, input().split())\n",
    "    union_parent(parent,a,b)\n",
    "\n",
    "#각 원소가 속한 집합 출력\n",
    "print('각 원소가 속한집합:', end=' ')\n",
    "for i in range(1,v+1):\n",
    "    print(find_parent(parent,i), end=' ')\n",
    "print()\n",
    "\n",
    "#부모 테이블 출력\n",
    "print('부모테이블', end=' ')\n",
    "for i in range(1,v+1):\n",
    "    print(parent[i],end=' ')\n"
   ]
  },
  {
   "cell_type": "code",
   "execution_count": 12,
   "metadata": {},
   "outputs": [
    {
     "name": "stdout",
     "output_type": "stream",
     "text": [
      "싸이클이 발생\n"
     ]
    }
   ],
   "source": [
    "def find_parent(parent,x):\n",
    "    #루트 노드가 아니면 루트 노드 찾을 때까지 재귀적으로 호출\n",
    "    if parent[x] != x:\n",
    "        return find_parent(parent,parent[x])\n",
    "    return parent[x]\n",
    "#두 원소가 속한 집합을 합치기\n",
    "def union_parent(parent,a,b):\n",
    "    a =find_parent(parent, a)\n",
    "    b= find_parent(parent, b)\n",
    "    if a<b:\n",
    "        parent[b] =a\n",
    "    else:\n",
    "        parent[a] =b\n",
    "\n",
    "v,e= map(int, input().split())\n",
    "\n",
    "parent =[0]*(v+1)\n",
    "\n",
    "for i in range(1,v+1):\n",
    "    parent[i]=i\n",
    "\n",
    "cycle=False\n",
    "\n",
    "for i in range(e):\n",
    "    a,b= map(int, input().split())\n",
    "    #사이클이 발생한 경우 종료\n",
    "    if find_parent(parent,a) ==find_parent(parent,b):\n",
    "        cycle=True\n",
    "        break\n",
    "\n",
    "    #싸이클이 발생하지 않으면 합집합 수행\n",
    "    else:\n",
    "        union_parent(parent,a,b)\n",
    "if cycle:\n",
    "        print('싸이클이 발생')\n",
    "else:\n",
    "        print('싸이클이 발생하지 않음')\n"
   ]
  },
  {
   "cell_type": "code",
   "execution_count": 20,
   "metadata": {},
   "outputs": [
    {
     "name": "stdout",
     "output_type": "stream",
     "text": [
      "159\n"
     ]
    }
   ],
   "source": [
    "def find_parent(parent,x):\n",
    "    #루트 노드가 아니라면 루트 노드를 찾을때까지 재귀적으로 호출\n",
    "    if parent[x]!=x:\n",
    "        parent[x] =find_parent(parent,parent[x])\n",
    "    return parent[x]\n",
    "\n",
    "#두 원소가 속한 집합을 합치기\n",
    "def union_parent(parent, a,b):\n",
    "    a= find_parent(parent, a)\n",
    "    b= find_parent(parent, b)\n",
    "    if a<b:\n",
    "        parent[b]=a\n",
    "    else:\n",
    "        parent[a]=b\n",
    "\n",
    "#노드의 개수와 간선의 개수 입력받기\n",
    "v,e = map(int, input().split())\n",
    "\n",
    "parent=[0]*(v+1)# 부모테이블 초기화\n",
    "\n",
    "edges=[]\n",
    "result= 0\n",
    "#부모 테이블에서 부모를 자기자신으로 초기화\n",
    "for i in range(1,v+1):\n",
    "    parent[i]=i\n",
    "\n",
    "#모든 간선에 대한 정보를 입력받기\n",
    "for _ in range(e):\n",
    "    a,b,cost= map(int, input().split())\n",
    "    #비용 순으로 정렬하기 위해 튜플의 첫번쨰 원소를 비용으로 설정\n",
    "    edges.append((cost,a,b))\n",
    "\n",
    "#간선을 비용순으로 정렬\n",
    "edges.sort()\n",
    "\n",
    "#간선을 하나씩 확인\n",
    "for edge in edges:\n",
    "    cost,a,b = edge\n",
    "    #싸이클이 발생하지 않는 경우에만 집합에 포함\n",
    "    if find_parent(parent,a) != find_parent(parent,b):\n",
    "        union_parent(parent, a,b)\n",
    "        result+=cost\n",
    "\n",
    "print(result)\n",
    "\n"
   ]
  },
  {
   "cell_type": "code",
   "execution_count": 22,
   "metadata": {},
   "outputs": [
    {
     "name": "stdout",
     "output_type": "stream",
     "text": [
      "1 2 5 3 6 4 7 "
     ]
    }
   ],
   "source": [
    "from collections import deque\n",
    "#노드의 개수와 간선의 개수를 입력받기\n",
    "v, e= map(int, input().split())\n",
    "\n",
    "#모든 노드에 대한 진입차수 0으로 초기화\n",
    "indegree= [0]*(v+1)\n",
    "\n",
    "#각 노드에 연결된 간선 정보를 담기 위한 연결 리스트(그래프) 초기화\n",
    "\n",
    "graph=[[] for i in range(v+1)]\n",
    "\n",
    "#방향 그래프의 모든 간선정보를 입력받기\n",
    "for _ in range(e):\n",
    "    a,b= map(int,input().split())\n",
    "    graph[a].append(b) #정점 A에서 B로 이동가능\n",
    "    #진입차수 1증가\n",
    "    indegree[b] +=1\n",
    "\n",
    "#위상 정렬 함수\n",
    "def topology_sort():\n",
    "    result = []\n",
    "    q =deque() #큐ㅜ기능을 위한 deque 라이브러리\n",
    "\n",
    "    #처음 시작할떄 진입차수 0인 노드를 큐에 삽입\n",
    "    for i in range(1,v+1):\n",
    "        if indegree[i] ==0:\n",
    "            q.append(i)\n",
    "\n",
    "    #큐가 빌때까지 반복\n",
    "    while q:\n",
    "        #큐에서 원소 꺼내기\n",
    "        now = q.popleft()\n",
    "        result.append(now)\n",
    "        #해당 원소와 연결된 노드들의 진입차수에서 1빼기\n",
    "        for i in graph[now]:\n",
    "            indegree[i] -=1\n",
    "            #새롭게 진입차수가 0이 되는 노드를 큐에 삽입\n",
    "            if indegree[i]==0:\n",
    "                q.append(i)\n",
    "\n",
    "    for i in result:\n",
    "        print(i, end=' ')\n",
    "\n",
    "topology_sort()"
   ]
  },
  {
   "cell_type": "code",
   "execution_count": null,
   "metadata": {},
   "outputs": [],
   "source": []
  }
 ],
 "metadata": {
  "interpreter": {
   "hash": "a4fd1451840babbb37e6226633a71627e1f918595ad990aa0f1a715d0e292c9f"
  },
  "kernelspec": {
   "display_name": "Python 3.8.8 64-bit ('base': conda)",
   "language": "python",
   "name": "python3"
  },
  "language_info": {
   "codemirror_mode": {
    "name": "ipython",
    "version": 3
   },
   "file_extension": ".py",
   "mimetype": "text/x-python",
   "name": "python",
   "nbconvert_exporter": "python",
   "pygments_lexer": "ipython3",
   "version": "3.8.8"
  },
  "orig_nbformat": 4
 },
 "nbformat": 4,
 "nbformat_minor": 2
}
