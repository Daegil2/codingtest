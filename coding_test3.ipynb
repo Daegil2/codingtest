{
 "cells": [
  {
   "cell_type": "code",
   "execution_count": 7,
   "metadata": {},
   "outputs": [
    {
     "name": "stdout",
     "output_type": "stream",
     "text": [
      "3 4\n"
     ]
    }
   ],
   "source": [
    "# n 입력받기\n",
    "n = int(input())\n",
    "x, y= 1,1\n",
    "plans = input().split()\n",
    "\n",
    "#L,R,U,D 에 따른 이동방향\n",
    "dx = [0,0,-1,1]\n",
    "dy = [-1,1,0,0]\n",
    "move_types = ['L','R','U','D']\n",
    "\n",
    "#이동 계획을 확인\n",
    "for plan in plans:\n",
    "    #이동후 좌표 구하기\n",
    "    for i in range(len(move_types)):\n",
    "        if plan == move_types[i]:\n",
    "            nx = x + dx[i]\n",
    "            ny = y + dy[i]\n",
    "\n",
    "    #공간을 벗어나는 경우 무시\n",
    "    if nx < 1 or ny < 1  or nx> n or ny >n:\n",
    "        continue\n",
    "    #이동, 수행\n",
    "    x, y, =nx, ny\n",
    "\n",
    "print(x,y)\n",
    "    "
   ]
  },
  {
   "cell_type": "code",
   "execution_count": 9,
   "metadata": {},
   "outputs": [
    {
     "name": "stdout",
     "output_type": "stream",
     "text": [
      "900\n"
     ]
    }
   ],
   "source": [
    "h = int(input())\n",
    "\n",
    "count = 0\n",
    "for i in range(h+1):\n",
    "    for j in range(60):\n",
    "        for k in range(6):\n",
    "            #매 시각안에 '3'이 포함되어 있다면 카운트 증가\n",
    "            if '3' in str(i) + str(j) + str(k):\n",
    "                count +=1\n",
    "print(count)"
   ]
  },
  {
   "cell_type": "code",
   "execution_count": 17,
   "metadata": {},
   "outputs": [
    {
     "name": "stdout",
     "output_type": "stream",
     "text": [
      "a1 2\n"
     ]
    }
   ],
   "source": [
    "input_data= input()\n",
    "row = int(input_data[1])\n",
    "column = int(ord(input_data[0])) - int(ord('a'))+1\n",
    "\n",
    "#나이트가 이동 할 수 있는 8가지 방향 정의\n",
    "steps = [(-2,1), (-1,-2), (1,-2), (2,-1), (2,1), (1,2), (-1,2), (-2,1)]\n",
    "\n",
    "# 8가지 방향에 대하여 각 위치로 이동이 가능한지 확인\n",
    "result = 0\n",
    "for step in steps:\n",
    "    next_row = row+ step[0]\n",
    "    next_column = column+step[1]\n",
    "    #해당위치로 이동 가능하면 카운트 증가\n",
    "    if next_row >=1 and next_row <=8 and next_column>=1 and next_column<=8:\n",
    "        result+=1\n",
    "\n",
    "print(input_data,result)"
   ]
  },
  {
   "cell_type": "code",
   "execution_count": null,
   "metadata": {},
   "outputs": [],
   "source": []
  }
 ],
 "metadata": {
  "interpreter": {
   "hash": "9fa643add019da874cacc65f2edf245f07005a8ee4d09b49b89a0524c9f0d194"
  },
  "kernelspec": {
   "display_name": "Python 3.9.9 64-bit (windows store)",
   "language": "python",
   "name": "python3"
  },
  "language_info": {
   "codemirror_mode": {
    "name": "ipython",
    "version": 3
   },
   "file_extension": ".py",
   "mimetype": "text/x-python",
   "name": "python",
   "nbconvert_exporter": "python",
   "pygments_lexer": "ipython3",
   "version": "3.9.9"
  },
  "orig_nbformat": 4
 },
 "nbformat": 4,
 "nbformat_minor": 2
}
