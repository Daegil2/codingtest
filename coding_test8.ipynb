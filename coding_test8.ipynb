{
 "cells": [
  {
   "cell_type": "code",
   "execution_count": 5,
   "metadata": {},
   "outputs": [
    {
     "name": "stdout",
     "output_type": "stream",
     "text": [
      "3\n"
     ]
    }
   ],
   "source": [
    "d=[0]*100\n",
    "#피보나치 함수 재귀함수\n",
    "def fibo(x):\n",
    "    if x==1 or x==2:\n",
    "        return 1\n",
    "    #이미 계산한적 있다면\n",
    "    if d[x]!=0:\n",
    "        return d[x]\n",
    "    d[x]=fibo(x-1)+fibo(x-2)\n",
    "    return d[x]\n",
    "\n",
    "print(fibo(4))"
   ]
  },
  {
   "cell_type": "code",
   "execution_count": 10,
   "metadata": {},
   "outputs": [
    {
     "name": "stdout",
     "output_type": "stream",
     "text": [
      "f(6) f(5) f(4) f(3) f(2) f(1) f(2) f(3) f(4) 8\n"
     ]
    }
   ],
   "source": [
    "e=[0]*10000\n",
    "def pibo(x):\n",
    "    print('f('+str(x)+')', end=' ')\n",
    "    if x==1 or x==2:\n",
    "        return 1\n",
    "    if e[x] !=0:\n",
    "        return e[x]\n",
    "    e[x] =pibo(x-1)+pibo(x-2)\n",
    "    return e[x]\n",
    "    \n",
    "print(pibo(6))\n",
    "        "
   ]
  },
  {
   "cell_type": "code",
   "execution_count": 18,
   "metadata": {},
   "outputs": [
    {
     "name": "stdout",
     "output_type": "stream",
     "text": [
      "8\n"
     ]
    }
   ],
   "source": [
    "g=[0]*100\n",
    "\n",
    "#첫번째 피보나치\n",
    "g[1]=1\n",
    "g[2]=2\n",
    "a=5\n",
    "\n",
    "for i in range(3,a+1):\n",
    "    g[i]=g[i-1]+g[i-2]\n",
    "\n",
    "print(g[a])\n",
    "    \n"
   ]
  },
  {
   "cell_type": "code",
   "execution_count": 21,
   "metadata": {},
   "outputs": [
    {
     "name": "stdout",
     "output_type": "stream",
     "text": [
      "3\n"
     ]
    }
   ],
   "source": [
    "m=[0]*10000\n",
    "\n",
    "d=int(input())\n",
    "\n",
    "for i in range(2,d+1):\n",
    "    #현재수에서 1을 빼는 경우\n",
    "    m[i]=m[i-1]+1\n",
    "    #현재수가 2로 나눠지는경우\n",
    "    if i %2 ==0:\n",
    "        m[i]=min(m[i],m[i//2]+1)\n",
    "    #현재수가 3으로 나뉠경우\n",
    "    if i % 3 ==0:\n",
    "        m[i]=min(m[i], m[i//3]+1)\n",
    "    #현재수가 5로 나뉠경우\n",
    "    if i%5==0:\n",
    "        m[i]=min(m[i],m[i//5]+1)\n",
    "\n",
    "print(m[i])\n"
   ]
  },
  {
   "cell_type": "code",
   "execution_count": 28,
   "metadata": {},
   "outputs": [
    {
     "name": "stdout",
     "output_type": "stream",
     "text": [
      "8\n"
     ]
    }
   ],
   "source": [
    "food=int(input())\n",
    "\n",
    "ware= list(map(int, input().split()))\n",
    "\n",
    "f=[0]*100\n",
    "\n",
    "f[0]=ware[0]\n",
    "f[1]=max(ware[0],ware[1])\n",
    "for i in range(2,food):\n",
    "    f[i]=max(f[i-1], f[i-2]+ware[i])\n",
    "\n",
    "print(f[food-1])"
   ]
  },
  {
   "cell_type": "code",
   "execution_count": 30,
   "metadata": {},
   "outputs": [
    {
     "name": "stdout",
     "output_type": "stream",
     "text": [
      "5\n"
     ]
    }
   ],
   "source": [
    "line =int(input())\n",
    "\n",
    "cell=[0]*1000\n",
    "\n",
    "cell[1]=1\n",
    "cell[2]=3\n",
    "\n",
    "for i in range(3,line+1):\n",
    "    cell[i]=(cell[i-1]+cell[i-2]*2) %796796\n",
    "\n",
    "print(cell[line])\n"
   ]
  },
  {
   "cell_type": "code",
   "execution_count": 41,
   "metadata": {},
   "outputs": [
    {
     "name": "stdout",
     "output_type": "stream",
     "text": [
      "5\n"
     ]
    }
   ],
   "source": [
    "coin, won = map(int,input().split())\n",
    "\n",
    "#n개의 화폐단위정보 입력받기\n",
    "rack=[]\n",
    "\n",
    "for i in range(coin):\n",
    "    rack.append(int(input()))\n",
    "\n",
    "cell =[10001]*(won+1)\n",
    "\n",
    "cell[0]=0\n",
    "for i in range(coin):\n",
    "    for j in range(rack[i], won+1):\n",
    "        if cell[j-rack[i]] !=10001:#(i-k)원을 만드는 방법이 존재하는 경우\n",
    "            cell[j] =min(cell[j], cell[j-rack[i]]+1)\n",
    "\n",
    "#계산결과 출력\n",
    "if cell[won] == 10001:\n",
    "    print(-1)\n",
    "else:\n",
    "    print(cell[won])"
   ]
  },
  {
   "cell_type": "code",
   "execution_count": null,
   "metadata": {},
   "outputs": [],
   "source": [
    "\n"
   ]
  }
 ],
 "metadata": {
  "interpreter": {
   "hash": "a4fd1451840babbb37e6226633a71627e1f918595ad990aa0f1a715d0e292c9f"
  },
  "kernelspec": {
   "display_name": "Python 3.8.8 64-bit ('base': conda)",
   "language": "python",
   "name": "python3"
  },
  "language_info": {
   "codemirror_mode": {
    "name": "ipython",
    "version": 3
   },
   "file_extension": ".py",
   "mimetype": "text/x-python",
   "name": "python",
   "nbconvert_exporter": "python",
   "pygments_lexer": "ipython3",
   "version": "3.8.8"
  },
  "orig_nbformat": 4
 },
 "nbformat": 4,
 "nbformat_minor": 2
}
