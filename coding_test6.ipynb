{
 "cells": [
  {
   "cell_type": "code",
   "execution_count": 2,
   "metadata": {},
   "outputs": [
    {
     "name": "stdout",
     "output_type": "stream",
     "text": [
      "1 2 3 8 7 4 5 6 "
     ]
    }
   ],
   "source": [
    "from collections import deque\n",
    "#BFS 메서드 정의\n",
    "def bfs(graph, start, visited):\n",
    "    #큐 구현을 위해 deque 라이브러리 사용\n",
    "    queue = deque([start])\n",
    "    #현재 노드 방문처리\n",
    "    visited[start]= True\n",
    "    #큐가 빌떄까지 반복\n",
    "    while queue:\n",
    "        #큐에서 하나의 원소 뽑아 출력\n",
    "        v= queue.popleft()\n",
    "        print(v, end=' ')\n",
    "\n",
    "        for i in graph[v]:\n",
    "            if not visited[i]:\n",
    "                queue.append(i)\n",
    "                visited[i] = True\n",
    "\n",
    "# 각 노드가 연결된 정보를 리스트 자료형으로 표현(2차원 리스트)\n",
    "graph = [\n",
    "    [],\n",
    "    [2,3,8],\n",
    "    [1,7],\n",
    "    [1,4,5],\n",
    "    [3,5],\n",
    "    [3,4],\n",
    "    [7],\n",
    "    [2,6,8],\n",
    "    [1,7]\n",
    "]\n",
    "\n",
    "#각 노드가 방문된 정보를 리스트 자료형으로 표현(1차원 리스트)\n",
    "\n",
    "visited= [False] *9\n",
    "\n",
    "#정의된 BFS 함수호출\n",
    "bfs(graph, 1, visited)"
   ]
  },
  {
   "cell_type": "code",
   "execution_count": 4,
   "metadata": {},
   "outputs": [
    {
     "ename": "ValueError",
     "evalue": "not enough values to unpack (expected 2, got 0)",
     "output_type": "error",
     "traceback": [
      "\u001b[1;31m---------------------------------------------------------------------------\u001b[0m",
      "\u001b[1;31mValueError\u001b[0m                                Traceback (most recent call last)",
      "\u001b[1;32m~\\AppData\\Local\\Temp/ipykernel_14412/2970978310.py\u001b[0m in \u001b[0;36m<module>\u001b[1;34m\u001b[0m\n\u001b[1;32m----> 1\u001b[1;33m \u001b[0mn\u001b[0m\u001b[1;33m,\u001b[0m\u001b[0mm\u001b[0m\u001b[1;33m=\u001b[0m \u001b[0mmap\u001b[0m\u001b[1;33m(\u001b[0m\u001b[0mint\u001b[0m\u001b[1;33m,\u001b[0m \u001b[0minput\u001b[0m\u001b[1;33m(\u001b[0m\u001b[1;33m)\u001b[0m\u001b[1;33m.\u001b[0m\u001b[0msplit\u001b[0m\u001b[1;33m(\u001b[0m\u001b[1;33m)\u001b[0m\u001b[1;33m)\u001b[0m\u001b[1;33m\u001b[0m\u001b[1;33m\u001b[0m\u001b[0m\n\u001b[0m\u001b[0;32m      2\u001b[0m \u001b[1;31m#2차원 리스트의 맵 정보 입력받기\u001b[0m\u001b[1;33m\u001b[0m\u001b[1;33m\u001b[0m\u001b[0m\n\u001b[0;32m      3\u001b[0m \u001b[0mgraph\u001b[0m\u001b[1;33m=\u001b[0m \u001b[1;33m[\u001b[0m\u001b[1;33m]\u001b[0m\u001b[1;33m\u001b[0m\u001b[1;33m\u001b[0m\u001b[0m\n\u001b[0;32m      4\u001b[0m \u001b[1;32mfor\u001b[0m \u001b[0mi\u001b[0m \u001b[1;32min\u001b[0m \u001b[0mrange\u001b[0m\u001b[1;33m(\u001b[0m\u001b[0mn\u001b[0m\u001b[1;33m)\u001b[0m\u001b[1;33m:\u001b[0m\u001b[1;33m\u001b[0m\u001b[1;33m\u001b[0m\u001b[0m\n\u001b[0;32m      5\u001b[0m     \u001b[0mgraph\u001b[0m\u001b[1;33m.\u001b[0m\u001b[0mappend\u001b[0m\u001b[1;33m(\u001b[0m\u001b[0mlist\u001b[0m\u001b[1;33m(\u001b[0m\u001b[0mmap\u001b[0m\u001b[1;33m(\u001b[0m\u001b[0mint\u001b[0m\u001b[1;33m,\u001b[0m \u001b[0minput\u001b[0m\u001b[1;33m(\u001b[0m\u001b[1;33m)\u001b[0m\u001b[1;33m.\u001b[0m\u001b[0msplit\u001b[0m\u001b[1;33m(\u001b[0m\u001b[1;33m)\u001b[0m\u001b[1;33m)\u001b[0m\u001b[1;33m)\u001b[0m\u001b[1;33m)\u001b[0m\u001b[1;33m\u001b[0m\u001b[1;33m\u001b[0m\u001b[0m\n",
      "\u001b[1;31mValueError\u001b[0m: not enough values to unpack (expected 2, got 0)"
     ]
    }
   ],
   "source": [
    "n,m= map(int, input().split())\n",
    "#2차원 리스트의 맵 정보 입력받기\n",
    "graph= []\n",
    "for i in range(n):\n",
    "    graph.append(list(map(int, input().split())))\n",
    "\n",
    "#DFS로 특정한 노드를 방문한 뒤에 연결된 모든 노드들도 방문\n",
    "def dfs(x,y):\n",
    "    #주어진 범위 벗어나면 즉시 종료\n",
    "    if x <=-1 or x >=n or y<=-1 or y>=m:\n",
    "        return False\n",
    "    # 현재 노드를 방문하지 않았다면\n",
    "    if graph[x][y] ==0:\n",
    "        graph[x][y] =1\n",
    "        #상하좌우 위치 모두 재귀적으로 호출\n",
    "        dfs(x-1, y)\n",
    "        dfs(x,y-1)\n",
    "        dfs(x+1,y)\n",
    "        dfs(x,y+1)\n",
    "        return True\n",
    "    return False\n",
    "\n",
    "#모든 노드에 대해 음료수 채우기\n",
    "result= 0\n",
    "for i in range(n):\n",
    "    for j in range(m):\n",
    "        # 현재 위치에서 dfs 수행\n",
    "        if dfs(i,j) ==True:\n",
    "            result+=1\n",
    "\n",
    "print(result)\n"
   ]
  },
  {
   "cell_type": "code",
   "execution_count": 9,
   "metadata": {},
   "outputs": [
    {
     "name": "stdout",
     "output_type": "stream",
     "text": [
      "10\n"
     ]
    }
   ],
   "source": [
    "from collections import deque\n",
    "n,m= map(int, input().split())\n",
    "#2차원 리스트의 맵 정보 입력받기\n",
    "graph= []\n",
    "for i in range(n):\n",
    "    graph.append(list(map(int, input().split())))\n",
    "\n",
    "#이동할 방향 (상하좌우)\n",
    "dx =[-1,1,0,0]\n",
    "dy =[0,0,-1,1]\n",
    "\n",
    "#BFS 소스 구현\n",
    "def bfs(x,y):\n",
    "    #큐 구현을 위해 deque라이브러리 사용\n",
    "    queue= deque()\n",
    "    queue.append((x,y))\n",
    "    #큐가 빌 때가지 반복\n",
    "    while queue:\n",
    "        x,y= queue.popleft()\n",
    "        #현재 위치에서 네방향으로의 위치 확인\n",
    "        for i in range(4):\n",
    "            nx =x + dx[i]\n",
    "            ny =y + dy[i]\n",
    "            #미로 찾기 공간을 벗어난경우 무시\n",
    "            if nx<0 or ny<0 or nx>=n or ny>=m:\n",
    "                continue\n",
    "            #벽인 경우 무시\n",
    "            if graph[nx][ny] ==0:\n",
    "                continue\n",
    "            if graph[nx][ny]==1:\n",
    "                graph[nx][ny]=graph[x][y]+1\n",
    "                queue.append((nx,ny))\n",
    "    return graph[n-1][m-1]\n",
    "\n",
    "#bfs를 수행한 결과 출력\n",
    "print(bfs(0,0))"
   ]
  },
  {
   "cell_type": "code",
   "execution_count": null,
   "metadata": {},
   "outputs": [],
   "source": []
  }
 ],
 "metadata": {
  "interpreter": {
   "hash": "9fa643add019da874cacc65f2edf245f07005a8ee4d09b49b89a0524c9f0d194"
  },
  "kernelspec": {
   "display_name": "Python 3.9.9 64-bit (windows store)",
   "language": "python",
   "name": "python3"
  },
  "language_info": {
   "codemirror_mode": {
    "name": "ipython",
    "version": 3
   },
   "file_extension": ".py",
   "mimetype": "text/x-python",
   "name": "python",
   "nbconvert_exporter": "python",
   "pygments_lexer": "ipython3",
   "version": "3.9.9"
  },
  "orig_nbformat": 4
 },
 "nbformat": 4,
 "nbformat_minor": 2
}
