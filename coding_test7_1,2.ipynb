{
 "cells": [
  {
   "cell_type": "code",
   "execution_count": 4,
   "metadata": {},
   "outputs": [
    {
     "name": "stdout",
     "output_type": "stream",
     "text": [
      "생성할 원수 갯수를 입력한 후 다음 한칸 띄고 찾을 문자열을 입력하세요\n",
      "앞서 적은 원소개수 만큼 문자열을 입력하세요\n",
      "2\n"
     ]
    }
   ],
   "source": [
    "def sequential_search(n, target, array):\n",
    "    #원소를 하나씩 확인\n",
    "    for i in range(n):\n",
    "        # 현재 원소가 같다면\n",
    "        if array[i] == target:\n",
    "            return i+i #현재의 위치 반환\n",
    "\n",
    "print('생성할 원수 갯수를 입력한 후 다음 한칸 띄고 찾을 문자열을 입력하세요')\n",
    "input_data= input().split()\n",
    "n= int(input_data[0])#원소의 갯수\n",
    "target= input_data[1]# 찾고자하는 문자열\n",
    "\n",
    "print('앞서 적은 원소개수 만큼 문자열을 입력하세요')\n",
    "array= input().split()\n",
    "\n",
    "#순차 탐색 수행결과\n",
    "print(sequential_search(n,target, array))"
   ]
  },
  {
   "cell_type": "code",
   "execution_count": 1,
   "metadata": {},
   "outputs": [
    {
     "name": "stdout",
     "output_type": "stream",
     "text": [
      "4\n"
     ]
    }
   ],
   "source": [
    "# 이진 탐색 소스코드 구현\n",
    "def binary_search(array, target, start, end):\n",
    "    if start > end:\n",
    "        return None\n",
    "    mid = (start+end) //2\n",
    "    #찾은경우 중간점 인덱스 반환\n",
    "    if array[mid]== target:\n",
    "        return mid\n",
    "    #중간점의 값보다 찾고자 하는 값이 작은 경우 왼쪽 확인\n",
    "    elif array[mid] >target:\n",
    "        return binary_search(array,target, start, mid -1)\n",
    "    #중간점 보다 찾고자하는 값이 큰경우 오른쪽 확인\n",
    "    else:\n",
    "        return binary_search(array, target, mid+1, end)\n",
    "\n",
    "#n과 target을 입력받기\n",
    "n, target= list(map(int, input().split()))\n",
    "#전체 원소 입력받기\n",
    "array = list(map(int, input().split()))\n",
    "# 이진 탐색 수행 결과 출력\n",
    "result = binary_search(array, target, 0, n-1)\n",
    "if result ==None:\n",
    "    print('원소가 존재 하지 않습니다')\n",
    "else:\n",
    "    print(result+1)\n"
   ]
  },
  {
   "cell_type": "code",
   "execution_count": 4,
   "metadata": {},
   "outputs": [
    {
     "name": "stdout",
     "output_type": "stream",
     "text": [
      "원소가 존재하지 않습니다.\n"
     ]
    }
   ],
   "source": [
    "def binary_search(array, target, start, end):\n",
    "    while start <=end:\n",
    "        mid =(start+end) //2\n",
    "        #찾은 경우 중간점 인덱스 반환\n",
    "\n",
    "        if array[mid]==target:\n",
    "            return mid\n",
    "        # 중간점의 값보다 찾고자 하는 값이 큰 경우 왼쪽 확인\n",
    "        elif array[mid] >target:\n",
    "            end = mid -1\n",
    "        #중간점의 값보다 찾고자 하는 값이 큰경우 오른쪽 확인\n",
    "        else:\n",
    "            start = mid+1\n",
    "    return None\n",
    "# n과 target을 입력받기\n",
    "n, target = list(map(int, input().split()))\n",
    "#전체 원소 입력받기\n",
    "array= list(map(int, input().split()))\n",
    "result = binary_search(array, target, 0, n-1)\n",
    "if result ==None:\n",
    "    print('원소가 존재하지 않습니다.')\n",
    "else:\n",
    "    print(result +1)\n",
    "\n"
   ]
  },
  {
   "cell_type": "code",
   "execution_count": 7,
   "metadata": {},
   "outputs": [
    {
     "name": "stdout",
     "output_type": "stream",
     "text": [
      "\n"
     ]
    }
   ],
   "source": [
    "import sys\n",
    "#하나의 문자열 데이터 입력받기\n",
    "input_data= sys.stdin.readline().rstrip()\n",
    "\n",
    "#입력받은 문자열 그대로 출력\n",
    "print(input_data)"
   ]
  },
  {
   "cell_type": "code",
   "execution_count": 12,
   "metadata": {},
   "outputs": [
    {
     "name": "stdout",
     "output_type": "stream",
     "text": [
      "no yes yes "
     ]
    }
   ],
   "source": [
    "def binary_search(array, target, start, end):\n",
    "    while start<=end:\n",
    "        mid =(start+end)//2\n",
    "        #찾은 경우 중간점 인덱스 반환\n",
    "        if array[mid] ==target:\n",
    "            return mid\n",
    "        #중간점의 값보다 찾고자 하는 값이 작은 경우 왼쪽 확인\n",
    "        elif array[mid] >target:\n",
    "            end =mid -1\n",
    "        #중간점의 값보다 찾고자 하는 값이 작은 경우 오른쪽 확인\n",
    "        else:\n",
    "            start= mid+1\n",
    "    return None\n",
    "#부품갯수 입력\n",
    "n= int(input())\n",
    "#가게 전체 부품번호를 공백으로 구분하여 입력\n",
    "array=list(map(int, input().split()))\n",
    "array.sort()\n",
    "#요청 부품 확인\n",
    "m= int(input())\n",
    "#요청 부품 공백으로 구분하여 입력\n",
    "x = list(map(int, input().split()))\n",
    "\n",
    "#요청 부품 하나씩 확인\n",
    "for i in x:\n",
    "    result =binary_search(array, i, 0, n-1)\n",
    "    if result !=None:\n",
    "        print('yes', end=' ')\n",
    "    else:\n",
    "        print('no', end= ' ')\n",
    "\n",
    "\n"
   ]
  },
  {
   "cell_type": "code",
   "execution_count": 13,
   "metadata": {},
   "outputs": [
    {
     "name": "stdout",
     "output_type": "stream",
     "text": [
      "no yes yes "
     ]
    }
   ],
   "source": [
    "n= int(input())\n",
    "array= [0] *1000001\n",
    "\n",
    "#가게에 있는 부품 번호 입력받아  기록\n",
    "for i in input().split():\n",
    "    array[int(i)] =1\n",
    "\n",
    "#요청 부품 갯수 입력받기\n",
    "m = int(input())\n",
    "#요청 부품 공백으로 입력받기\n",
    "x=list(map(int, input().split()))\n",
    "#요청 부품 번호 확인\n",
    "for i in x:\n",
    "    #해당부품 존재 여부 확인\n",
    "    if array[i]==1:\n",
    "        print('yes', end= ' ')\n",
    "    else:\n",
    "        print('no', end=' ')\n",
    "        "
   ]
  },
  {
   "cell_type": "code",
   "execution_count": 14,
   "metadata": {},
   "outputs": [
    {
     "name": "stdout",
     "output_type": "stream",
     "text": [
      "no yes yes "
     ]
    }
   ],
   "source": [
    "n= int(input())\n",
    "#가게 전체 부품 번호 set자료형에 기록\n",
    "array=set(map(int, input().split()))\n",
    "\n",
    "\n",
    "#요청 부품 갯수 입력받기\n",
    "m = int(input())\n",
    "#요청 부품 공백으로 입력받기\n",
    "x=list(map(int, input().split()))\n",
    "#요청 부품 번호 확인\n",
    "for i in x:\n",
    "    #해당부품 존재 여부 확인\n",
    "    if i in array:\n",
    "        print('yes', end= ' ')\n",
    "    else:\n",
    "        print('no', end=' ')\n",
    "        "
   ]
  },
  {
   "cell_type": "code",
   "execution_count": null,
   "metadata": {},
   "outputs": [],
   "source": []
  }
 ],
 "metadata": {
  "interpreter": {
   "hash": "9fa643add019da874cacc65f2edf245f07005a8ee4d09b49b89a0524c9f0d194"
  },
  "kernelspec": {
   "display_name": "Python 3.9.9 64-bit (windows store)",
   "language": "python",
   "name": "python3"
  },
  "language_info": {
   "codemirror_mode": {
    "name": "ipython",
    "version": 3
   },
   "file_extension": ".py",
   "mimetype": "text/x-python",
   "name": "python",
   "nbconvert_exporter": "python",
   "pygments_lexer": "ipython3",
   "version": "3.8.8"
  },
  "orig_nbformat": 4
 },
 "nbformat": 4,
 "nbformat_minor": 2
}
