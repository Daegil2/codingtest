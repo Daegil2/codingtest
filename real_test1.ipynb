{
 "cells": [
  {
   "cell_type": "code",
   "execution_count": 5,
   "metadata": {},
   "outputs": [
    {
     "name": "stdout",
     "output_type": "stream",
     "text": [
      "2\n"
     ]
    }
   ],
   "source": [
    "n= int(input())\n",
    "\n",
    "data=list(map(int, input().split()))\n",
    "\n",
    "data.sort()\n",
    "\n",
    "group=0#총 그룹수\n",
    "adventure=0#모함가의 수\n",
    "for i in data:\n",
    "    adventure+=1\n",
    "    if adventure >=i:\n",
    "        group+=1\n",
    "        adventure=0\n",
    "\n",
    "print(group)\n",
    "\n"
   ]
  },
  {
   "cell_type": "code",
   "execution_count": 6,
   "metadata": {},
   "outputs": [
    {
     "name": "stdout",
     "output_type": "stream",
     "text": [
      "576\n"
     ]
    }
   ],
   "source": [
    "data = input()\n",
    "\n",
    "result =int(data[0])\n",
    "\n",
    "for i in range(1,len(data)):\n",
    "    #두수 중에 하나라도 0이나 1일 경우 더하기 수행\n",
    "    num =int(data[i])\n",
    "    if num<=1 or result <=1:\n",
    "        result +=num\n",
    "    else:\n",
    "        result*=num\n",
    "print(result)"
   ]
  },
  {
   "cell_type": "code",
   "execution_count": 10,
   "metadata": {},
   "outputs": [
    {
     "name": "stdout",
     "output_type": "stream",
     "text": [
      "1\n"
     ]
    }
   ],
   "source": [
    "data=input()\n",
    "\n",
    "count0=0\n",
    "count1=0\n",
    "\n",
    "if data[0] ==1:\n",
    "    count0+=1\n",
    "else:\n",
    "    count1+=1\n",
    "\n",
    "for i in range(len(data)-1):\n",
    "    if data[i] != data[1+1]:\n",
    "        #다음수에서 1로 바뀌는 경우\n",
    "        if data[i+1]=='1':\n",
    "            count0+=1\n",
    "        #다음수에서 0으로 바뀌는 경우\n",
    "        else:\n",
    "            count1+=1\n",
    "\n",
    "print(min(count0,count1))"
   ]
  },
  {
   "cell_type": "code",
   "execution_count": 14,
   "metadata": {},
   "outputs": [
    {
     "name": "stdout",
     "output_type": "stream",
     "text": [
      "8\n"
     ]
    }
   ],
   "source": [
    "n=int(input())\n",
    "\n",
    "coin =list(map(int, input().split()))\n",
    "coin.sort()\n",
    "\n",
    "target = 1\n",
    "for x in coin:\n",
    "    #만들수 없는 금액을 찾았을때 반복 종료\n",
    "    if target<x:\n",
    "        break\n",
    "    else:\n",
    "        target+=x\n",
    "\n",
    "print(target)\n",
    "    \n"
   ]
  },
  {
   "cell_type": "code",
   "execution_count": 17,
   "metadata": {},
   "outputs": [
    {
     "name": "stdout",
     "output_type": "stream",
     "text": [
      "8\n"
     ]
    }
   ],
   "source": [
    "n,m=map(int, input().split())\n",
    "weight= list(map(int, input().split()))\n",
    "\n",
    "ball =[0] * 11\n",
    "\n",
    "for x in weight:\n",
    "    #각 무게 볼링공 카운트\n",
    "    ball[x]+=1\n",
    "\n",
    "result =0\n",
    "#1부터 m까지의 무게에 대하여 처리\n",
    "for i in range(1,m+1):\n",
    "    n-= ball[i] #무게가 i인 볼링공의 개수(A가 선택할수있는 개수)제외\n",
    "    result +=ball[i] *n #b가 선택하는 경우의 수와 곱하기\n",
    "\n",
    "print(result)"
   ]
  },
  {
   "cell_type": "code",
   "execution_count": null,
   "metadata": {},
   "outputs": [],
   "source": [
    "import heapq\n",
    "\n",
    "def solution(food_times, k):\n",
    "    #전체 음식을 먹는 시간보다 k가 크거나 같다면\n",
    "    if sum(food_times) <=k:\n",
    "        return -1\n",
    "    #시간이 작은ㅇ 음식부터 빼야하므로 우선순위 큐 사용\n",
    "    q=[]\n",
    "    for i in range(len(food_times)):\n",
    "        heapq.heappush(q, (food_times[i], i+1))\n",
    "    sum_value= 0#먹기 위해 사용한시간\n",
    "    previous =0 #직전에 다 먹은 음식 시간\n",
    "\n",
    "    length = len(food_times) #남은 음식의 개수\n",
    "    \n",
    "    #\n",
    "    while sum_value + ((q[0][0] - previous) * length)<=k:\n",
    "        now= heapq.heappop(q)[0]\n",
    "        sum_value += (now- previous) *length\n",
    "        length -=1 #다먹은 음식 제외\n",
    "        previous = now# 이전 음식 시간 재설정\n",
    "\n",
    "    #남은 음식중에서 몇번ㅁ째 음식인지 확인하여 출력\n",
    "    result =sorted(q, key=lambda x:x[1])#음식의 번호기준으로 정렬\n",
    "    return result[(k - sum_value) % length][1]"
   ]
  }
 ],
 "metadata": {
  "interpreter": {
   "hash": "a4fd1451840babbb37e6226633a71627e1f918595ad990aa0f1a715d0e292c9f"
  },
  "kernelspec": {
   "display_name": "Python 3.8.8 64-bit ('base': conda)",
   "language": "python",
   "name": "python3"
  },
  "language_info": {
   "codemirror_mode": {
    "name": "ipython",
    "version": 3
   },
   "file_extension": ".py",
   "mimetype": "text/x-python",
   "name": "python",
   "nbconvert_exporter": "python",
   "pygments_lexer": "ipython3",
   "version": "3.8.8"
  },
  "orig_nbformat": 4
 },
 "nbformat": 4,
 "nbformat_minor": 2
}
