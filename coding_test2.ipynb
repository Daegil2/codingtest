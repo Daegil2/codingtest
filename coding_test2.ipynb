{
 "cells": [
  {
   "cell_type": "code",
   "execution_count": null,
   "metadata": {},
   "outputs": [],
   "source": [
    "n, m, k =map(int, input().split())\n",
    "data= list(map(int, input().split()))\n",
    "\n",
    "data.sort()\n",
    "first = data[n-1]\n",
    "second = data[n-2]\n",
    "\n",
    "count = int(m/(k+1)) *k\n",
    "count +=m% (k+1)\n",
    "\n",
    "result =0\n",
    "result += (count) * first\n",
    "result += (m-count) * second\n",
    "\n",
    "print(result)"
   ]
  },
  {
   "cell_type": "code",
   "execution_count": 6,
   "metadata": {},
   "outputs": [
    {
     "name": "stdout",
     "output_type": "stream",
     "text": [
      "2\n"
     ]
    }
   ],
   "source": [
    "n,m = map(int, input().split())\n",
    "result = 0\n",
    "\n",
    "for i in range(n):\n",
    "    data = list(map(int, input().split()))\n",
    "    min_value = min(data)\n",
    "\n",
    "    result = max(result, min_value)\n",
    "print(result)"
   ]
  },
  {
   "cell_type": "code",
   "execution_count": 8,
   "metadata": {},
   "outputs": [
    {
     "name": "stdout",
     "output_type": "stream",
     "text": [
      "0\n"
     ]
    }
   ],
   "source": [
    "n, m =map(int, input().split())\n",
    "result = 0\n",
    "\n",
    "for i in range(n):\n",
    "    data = list(map(int, input().split()))\n",
    "    min_value= 10001\n",
    "    for a in data:\n",
    "        min_value=min(min_value, a)\n",
    "\n",
    "print(result)\n"
   ]
  },
  {
   "cell_type": "code",
   "execution_count": 13,
   "metadata": {},
   "outputs": [
    {
     "name": "stdout",
     "output_type": "stream",
     "text": [
      "6\n"
     ]
    }
   ],
   "source": [
    "n, k = map(int, input().split())\n",
    "result = 0\n",
    "while n>=k:\n",
    "    while n % k !=0:\n",
    "        n-=1\n",
    "        result+=1\n",
    "    n//=k\n",
    "    result +=1\n",
    "\n",
    "while n>1:\n",
    "    n-=1\n",
    "    result +=1\n",
    "print(result)"
   ]
  },
  {
   "cell_type": "code",
   "execution_count": 15,
   "metadata": {},
   "outputs": [
    {
     "name": "stdout",
     "output_type": "stream",
     "text": [
      "6\n"
     ]
    }
   ],
   "source": [
    "n, k = map(int, input().split())\n",
    "result= 0\n",
    "\n",
    "while True:\n",
    "    #(N ==k 로 나누어떨어지는수)가 될떄까지 1씩 빼기\n",
    "    target = (n//k)*k\n",
    "    result +=(n - target)\n",
    "    n= target\n",
    "    #N 이 K보다 작을때(반복문 탈출)\n",
    "    if n<k:\n",
    "        break\n",
    "    result +=1\n",
    "    n//=k\n",
    "result +=(n-1)\n",
    "print(result)\n"
   ]
  },
  {
   "cell_type": "code",
   "execution_count": null,
   "metadata": {},
   "outputs": [],
   "source": []
  }
 ],
 "metadata": {
  "interpreter": {
   "hash": "9fa643add019da874cacc65f2edf245f07005a8ee4d09b49b89a0524c9f0d194"
  },
  "kernelspec": {
   "display_name": "Python 3.9.9 64-bit (windows store)",
   "language": "python",
   "name": "python3"
  },
  "language_info": {
   "codemirror_mode": {
    "name": "ipython",
    "version": 3
   },
   "file_extension": ".py",
   "mimetype": "text/x-python",
   "name": "python",
   "nbconvert_exporter": "python",
   "pygments_lexer": "ipython3",
   "version": "3.9.9"
  },
  "orig_nbformat": 4
 },
 "nbformat": 4,
 "nbformat_minor": 2
}
