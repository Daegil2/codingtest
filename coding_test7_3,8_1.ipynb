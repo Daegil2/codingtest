{
 "cells": [
  {
   "cell_type": "code",
   "execution_count": 2,
   "metadata": {},
   "outputs": [
    {
     "name": "stdout",
     "output_type": "stream",
     "text": [
      "15\n"
     ]
    }
   ],
   "source": [
    "#떡의 갯수n 요청한 떡의 길이 m\n",
    "n,m =list(map(int, input().split()))\n",
    "#각 떡의 개별 높이 정보 입력\n",
    "array=list(map(int, input().split()))\n",
    "\n",
    "#이진 탐색을 위한 시작점과 끝점 설정\n",
    "start=0\n",
    "end =max(array)\n",
    "\n",
    "#이진 탐색 수행\n",
    "result = 0\n",
    "while(start<=end):\n",
    "    total=0\n",
    "    mid =(start+end)//2\n",
    "    for x in array:\n",
    "        #잘랐을때 떡의 양 계산\n",
    "        if x>mid:\n",
    "            total +=x-mid\n",
    "    #떡의 양이 부족한 경우 더 많이 자르기(왼쪽부분)\n",
    "    if total<m:\n",
    "        end =mid -1\n",
    "    #떡의 양이 충분한 경우 덜 자르기(오른쪽)\n",
    "    else:\n",
    "        result = mid \n",
    "        start= mid+1\n",
    "\n",
    "print(result)\n",
    "\n"
   ]
  },
  {
   "cell_type": "code",
   "execution_count": 5,
   "metadata": {},
   "outputs": [
    {
     "name": "stdout",
     "output_type": "stream",
     "text": [
      "218922995834555169026\n"
     ]
    }
   ],
   "source": [
    "d= [0]*100\n",
    "\n",
    "#피보나치 함수를 재귀함수로 구현\n",
    "def fibo(x):\n",
    "    # 종료 조건(1/2 일때 1을 반활)\n",
    "    if x==1 or x==2:\n",
    "        return 1\n",
    "    #이미 계산한적 있으면 그대로 반환\n",
    "    if d[x] != 0:\n",
    "        return d[x]\n",
    "    #아직 계산하지 않은 문제라면 피보나치 결과 반환\n",
    "    d[x]= fibo(x-1) +fibo(x-2)\n",
    "    return d[x]\n",
    "\n",
    "print(fibo(99))"
   ]
  },
  {
   "cell_type": "code",
   "execution_count": 8,
   "metadata": {},
   "outputs": [
    {
     "name": "stdout",
     "output_type": "stream",
     "text": [
      "f(3) f(2) f(1) "
     ]
    },
    {
     "data": {
      "text/plain": [
       "2"
      ]
     },
     "execution_count": 8,
     "metadata": {},
     "output_type": "execute_result"
    }
   ],
   "source": [
    "d= [0]*100\n",
    "\n",
    "def pibo(x):\n",
    "    print('f('+str(x)+')', end=' ')\n",
    "    if x==1 or x==2:\n",
    "        return 1\n",
    "    if d[x] !=0:\n",
    "        return d[x]\n",
    "    d[x]= pibo(x-1)+pibo(x-2)\n",
    "    return d[x]\n",
    "pibo(3)\n"
   ]
  },
  {
   "cell_type": "code",
   "execution_count": 12,
   "metadata": {},
   "outputs": [
    {
     "name": "stdout",
     "output_type": "stream",
     "text": [
      "13\n"
     ]
    }
   ],
   "source": [
    "d= [0]*100\n",
    "\n",
    "#첫번째 피보나치 수와 두번째 피보나치 수는 1\n",
    "d[1] =1\n",
    "d[2] =2\n",
    "n=6\n",
    "#피보나치 함수 반복문으로 구현\n",
    "for i in range(3, n+1):\n",
    "    d[i] =d[i-1]+d[i-2]\n",
    "    \n",
    "print(d[n])"
   ]
  },
  {
   "cell_type": "code",
   "execution_count": null,
   "metadata": {},
   "outputs": [],
   "source": []
  }
 ],
 "metadata": {
  "interpreter": {
   "hash": "9fa643add019da874cacc65f2edf245f07005a8ee4d09b49b89a0524c9f0d194"
  },
  "kernelspec": {
   "display_name": "Python 3.9.9 64-bit (windows store)",
   "language": "python",
   "name": "python3"
  },
  "language_info": {
   "codemirror_mode": {
    "name": "ipython",
    "version": 3
   },
   "file_extension": ".py",
   "mimetype": "text/x-python",
   "name": "python",
   "nbconvert_exporter": "python",
   "pygments_lexer": "ipython3",
   "version": "3.9.9"
  },
  "orig_nbformat": 4
 },
 "nbformat": 4,
 "nbformat_minor": 2
}
